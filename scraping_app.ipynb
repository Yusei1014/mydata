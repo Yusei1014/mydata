{
 "cells": [
  {
   "cell_type": "code",
   "execution_count": null,
   "metadata": {},
   "outputs": [],
   "source": []
  },
  {
   "cell_type": "markdown",
   "metadata": {},
   "source": [
    "スクレイピングした情報をいい形でStreamlitに載せたい。\n",
    "\n",
    "構想としては、今日のNBAの試合。\n",
    "おすすめのBET ライブBETでも継続できるのが嬉しい。\n",
    "\n"
   ]
  },
  {
   "cell_type": "code",
   "execution_count": 50,
   "metadata": {},
   "outputs": [
    {
     "name": "stderr",
     "output_type": "stream",
     "text": [
      "\n",
      "\n",
      "====== WebDriver manager ======\n",
      "Current google-chrome version is 102.0.5005\n",
      "Get LATEST chromedriver version for 102.0.5005 google-chrome\n",
      "Trying to download new driver from https://chromedriver.storage.googleapis.com/102.0.5005.61/chromedriver_mac64.zip\n",
      "Driver has been saved in cache [/Users/yuseitanaka/.wdm/drivers/chromedriver/mac64/102.0.5005.61]\n",
      "/var/folders/4_/v4tn38ms6wvcj8__s_nx68h00000gn/T/ipykernel_15803/2961708177.py:8: DeprecationWarning: executable_path has been deprecated, please pass in a Service object\n",
      "  browser = webdriver.Chrome(ChromeDriverManager().install(),options=options)\n"
     ]
    }
   ],
   "source": [
    "from time import sleep\n",
    "from selenium import webdriver\n",
    "from webdriver_manager.chrome import ChromeDriverManager\n",
    "\n",
    "#ブラウザをヘッドレスモードで起動\n",
    "options = webdriver.ChromeOptions()\n",
    "options.add_argument(\"--headless\")\n",
    "browser = webdriver.Chrome(ChromeDriverManager().install(),options=options)\n",
    "\n",
    "#Yahoo!ニュースにアクセス\n",
    "url = \"https://news.yahoo.co.jp/categories/business\"\n",
    "browser.get(url)"
   ]
  },
  {
   "cell_type": "code",
   "execution_count": 29,
   "metadata": {},
   "outputs": [
    {
     "name": "stderr",
     "output_type": "stream",
     "text": [
      "/var/folders/4_/v4tn38ms6wvcj8__s_nx68h00000gn/T/ipykernel_15803/3305335095.py:1: DeprecationWarning: find_elements_by_* commands are deprecated. Please use find_elements() instead\n",
      "  newspicks = browser.find_elements_by_css_selector(\"#newsFeed > ul > li\")\n"
     ]
    },
    {
     "data": {
      "text/plain": [
       "50"
      ]
     },
     "execution_count": 29,
     "metadata": {},
     "output_type": "execute_result"
    }
   ],
   "source": [
    "newspicks = browser.find_elements_by_css_selector(\"#newsFeed > ul > li\")\n",
    "len(newspicks)"
   ]
  },
  {
   "cell_type": "code",
   "execution_count": 102,
   "metadata": {},
   "outputs": [],
   "source": [
    "#仮想通貨の価格を取得する。\n",
    "from bs4 import BeautifulSoup\n",
    "import requests\n",
    "\n",
    "#BTC\n",
    "url = \"https://www.coindeskjapan.com/price/bitcoin/\"\n",
    "res = requests.get(url)\n",
    "soup = BeautifulSoup(res.text,\"html.parser\")\n"
   ]
  },
  {
   "cell_type": "code",
   "execution_count": 121,
   "metadata": {},
   "outputs": [
    {
     "name": "stdout",
     "output_type": "stream",
     "text": [
      "価格3,942,754円\n",
      "24時間変動率1.30%\n",
      "24時間変動値50,408円\n"
     ]
    }
   ],
   "source": [
    "BTC_price = soup.select_one(\"body > main > article > header > div > div > div.o-marketPriceChart > div.o-marketPriceChartBodyArea > div:nth-child(1) > div.o-marketPriceChartInfo > div\")\n",
    "BTC_24_rate = soup.select_one(\"body > main > article > header > div > div > div.o-marketPriceChart > div.o-marketPriceChartBodyArea > div:nth-child(1) > div.o-marketPriceChartInfo > div:nth-child(2)\")\n",
    "BTC_24_amount = soup.select_one(\"body > main > article > header > div > div > div.o-marketPriceChart > div.o-marketPriceChartBodyArea > div:nth-child(1) > div.o-marketPriceChartInfo > div:nth-child(4)\")\n",
    "print(BTC_elem.text)\n",
    "print(BTC_24_rate.text.replace(\"\\n\",\"\").replace(\" \",\"\"))\n",
    "print(BTC_24_amount.text.replace(\"\\n\",\"\").replace(\" \",\"\"))\n"
   ]
  },
  {
   "cell_type": "code",
   "execution_count": 304,
   "metadata": {},
   "outputs": [
    {
     "data": {
      "text/html": [
       "<div>\n",
       "<style scoped>\n",
       "    .dataframe tbody tr th:only-of-type {\n",
       "        vertical-align: middle;\n",
       "    }\n",
       "\n",
       "    .dataframe tbody tr th {\n",
       "        vertical-align: top;\n",
       "    }\n",
       "\n",
       "    .dataframe thead th {\n",
       "        text-align: right;\n",
       "    }\n",
       "</style>\n",
       "<table border=\"1\" class=\"dataframe\">\n",
       "  <thead>\n",
       "    <tr style=\"text-align: right;\">\n",
       "      <th></th>\n",
       "      <th>価格</th>\n",
       "      <th>24時間変動率</th>\n",
       "      <th>24時間変動値</th>\n",
       "    </tr>\n",
       "  </thead>\n",
       "  <tbody>\n",
       "    <tr>\n",
       "      <th>bitcoin</th>\n",
       "      <td>3,889,730</td>\n",
       "      <td>0.51%</td>\n",
       "      <td>19,706円</td>\n",
       "    </tr>\n",
       "    <tr>\n",
       "      <th>ethereum</th>\n",
       "      <td>232,795</td>\n",
       "      <td>0.83%</td>\n",
       "      <td>1,917円</td>\n",
       "    </tr>\n",
       "    <tr>\n",
       "      <th>xrp</th>\n",
       "      <td>51.28</td>\n",
       "      <td>0.97%</td>\n",
       "      <td>0.49円</td>\n",
       "    </tr>\n",
       "    <tr>\n",
       "      <th>usd-coin</th>\n",
       "      <td>130.74</td>\n",
       "      <td>-0.01%</td>\n",
       "      <td>-0.01円</td>\n",
       "    </tr>\n",
       "    <tr>\n",
       "      <th>stellar-lumens</th>\n",
       "      <td>18.88</td>\n",
       "      <td>2.28%</td>\n",
       "      <td>0.42円</td>\n",
       "    </tr>\n",
       "  </tbody>\n",
       "</table>\n",
       "</div>"
      ],
      "text/plain": [
       "                       価格 24時間変動率  24時間変動値\n",
       "bitcoin         3,889,730   0.51%  19,706円\n",
       "ethereum          232,795   0.83%   1,917円\n",
       "xrp                 51.28   0.97%    0.49円\n",
       "usd-coin           130.74  -0.01%   -0.01円\n",
       "stellar-lumens      18.88   2.28%    0.42円"
      ]
     },
     "execution_count": 304,
     "metadata": {},
     "output_type": "execute_result"
    }
   ],
   "source": [
    "#情報取得\n",
    "coin_ls =  [\"bitcoin\",\"ethereum\",\"xrp\",\"usd-coin\",\"stellar-lumens\"]\n",
    "coin_data_ls = [[\"価格\",\"24時間変動率\",\"24時間変動値\"]]\n",
    "\n",
    "def get_crypt_data(coin_name):\n",
    "\n",
    "    url = \"https://www.coindeskjapan.com/price/\" + str(coin_name)\n",
    "    res = requests.get(url)\n",
    "    soup = BeautifulSoup(res.text,\"html.parser\")\n",
    "\n",
    "    ls_create(coin_name)\n",
    "    price = soup.select_one(\"body > main > article > header > div > div > div.o-marketPriceChart > div.o-marketPriceChartBodyArea > div:nth-child(1) > div.o-marketPriceChartInfo > div\").text.replace(\"価格\",\"\").replace(\"円\",\"\")\n",
    "    rate_24 = soup.select_one(\"body > main > article > header > div > div > div.o-marketPriceChart > div.o-marketPriceChartBodyArea > div:nth-child(1) > div.o-marketPriceChartInfo > div:nth-child(2)\").text.replace(\"\\n\",\"\").replace(\" \",\"\").replace(\"24時間変動率\",\"\")\n",
    "    amount_24 = soup.select_one(\"body > main > article > header > div > div > div.o-marketPriceChart > div.o-marketPriceChartBodyArea > div:nth-child(1) > div.o-marketPriceChartInfo > div:nth-child(4)\").text.replace(\"\\n\",\"\").replace(\" \",\"\").replace(\"24時間変動値\",\"\")\n",
    "\n",
    "    coin_data_ls.append([price,rate_24,amount_24])\n",
    "    \n",
    "    return \n",
    "\n",
    "\n",
    "def table_create():    \n",
    "    for coin_name in coin_ls:\n",
    "        get_crypt_data(coin_name)\n",
    "\n",
    "    df = pd.DataFrame(data = coin_data_ls[1:],index = coin_ls ,columns=coin_data_ls[0])\n",
    "    return df\n",
    "\n",
    "table_create()"
   ]
  },
  {
   "cell_type": "code",
   "execution_count": 199,
   "metadata": {},
   "outputs": [
    {
     "data": {
      "text/html": [
       "<div>\n",
       "<style scoped>\n",
       "    .dataframe tbody tr th:only-of-type {\n",
       "        vertical-align: middle;\n",
       "    }\n",
       "\n",
       "    .dataframe tbody tr th {\n",
       "        vertical-align: top;\n",
       "    }\n",
       "\n",
       "    .dataframe thead th {\n",
       "        text-align: right;\n",
       "    }\n",
       "</style>\n",
       "<table border=\"1\" class=\"dataframe\">\n",
       "  <thead>\n",
       "    <tr style=\"text-align: right;\">\n",
       "      <th></th>\n",
       "      <th>価格</th>\n",
       "      <th>24時間変動率</th>\n",
       "      <th>24時間変動値</th>\n",
       "    </tr>\n",
       "  </thead>\n",
       "  <tbody>\n",
       "    <tr>\n",
       "      <th>bitcoin</th>\n",
       "      <td>3,957,474</td>\n",
       "      <td>1.49%</td>\n",
       "      <td>58,044円</td>\n",
       "    </tr>\n",
       "    <tr>\n",
       "      <th>ethereum</th>\n",
       "      <td>233,612</td>\n",
       "      <td>-1.16%</td>\n",
       "      <td>-2,753円</td>\n",
       "    </tr>\n",
       "    <tr>\n",
       "      <th>xrp</th>\n",
       "      <td>52.53</td>\n",
       "      <td>2.18%</td>\n",
       "      <td>1.12円</td>\n",
       "    </tr>\n",
       "    <tr>\n",
       "      <th>usd-coin</th>\n",
       "      <td>130.22</td>\n",
       "      <td>-0.03%</td>\n",
       "      <td>-0.04円</td>\n",
       "    </tr>\n",
       "    <tr>\n",
       "      <th>stellar-lumens</th>\n",
       "      <td>19.04</td>\n",
       "      <td>4.40%</td>\n",
       "      <td>0.80円</td>\n",
       "    </tr>\n",
       "  </tbody>\n",
       "</table>\n",
       "</div>"
      ],
      "text/plain": [
       "                       価格 24時間変動率  24時間変動値\n",
       "bitcoin         3,957,474   1.49%  58,044円\n",
       "ethereum          233,612  -1.16%  -2,753円\n",
       "xrp                 52.53   2.18%    1.12円\n",
       "usd-coin           130.22  -0.03%   -0.04円\n",
       "stellar-lumens      19.04   4.40%    0.80円"
      ]
     },
     "execution_count": 199,
     "metadata": {},
     "output_type": "execute_result"
    }
   ],
   "source": []
  },
  {
   "cell_type": "code",
   "execution_count": 305,
   "metadata": {},
   "outputs": [
    {
     "name": "stderr",
     "output_type": "stream",
     "text": [
      "\n",
      "\n",
      "====== WebDriver manager ======\n",
      "Current google-chrome version is 102.0.5005\n",
      "Get LATEST chromedriver version for 102.0.5005 google-chrome\n",
      "Trying to download new driver from https://chromedriver.storage.googleapis.com/102.0.5005.61/chromedriver_mac64.zip\n",
      "Driver has been saved in cache [/Users/yuseitanaka/.wdm/drivers/chromedriver/mac64/102.0.5005.61]\n",
      "/var/folders/4_/v4tn38ms6wvcj8__s_nx68h00000gn/T/ipykernel_15803/1437666050.py:10: DeprecationWarning: executable_path has been deprecated, please pass in a Service object\n",
      "  browser = webdriver.Chrome(ChromeDriverManager().install(),options=options)\n"
     ]
    }
   ],
   "source": [
    "#求人情報取得\n",
    "from time import sleep\n",
    "from selenium import webdriver\n",
    "from webdriver_manager.chrome import ChromeDriverManager\n",
    "import time\n",
    "\n",
    "#ブラウザをヘッドレスモードで起動\n",
    "options = webdriver.ChromeOptions()\n",
    "options.add_argument(\"--headless\")\n",
    "browser = webdriver.Chrome(ChromeDriverManager().install(),options=options)\n",
    "\n",
    "#Lancersの求人検索画面にアクセス\n",
    "url = \"https://www.lancers.jp/work/search\"\n",
    "browser.get(url)"
   ]
  },
  {
   "cell_type": "code",
   "execution_count": 306,
   "metadata": {},
   "outputs": [
    {
     "name": "stderr",
     "output_type": "stream",
     "text": [
      "/var/folders/4_/v4tn38ms6wvcj8__s_nx68h00000gn/T/ipykernel_15803/2244519367.py:5: DeprecationWarning: find_element_by_* commands are deprecated. Please use find_element() instead\n",
      "  browser.find_element_by_id(\"Keyword\").send_keys(search_word)\n",
      "/var/folders/4_/v4tn38ms6wvcj8__s_nx68h00000gn/T/ipykernel_15803/2244519367.py:8: DeprecationWarning: find_element_by_* commands are deprecated. Please use find_element() instead\n",
      "  search_btn = browser.find_element_by_id(\"Search\").click()\n"
     ]
    }
   ],
   "source": [
    "#検索ボックスに入力したいワードを入力する。\n",
    "search_word = \"Python スクレイピング\"\n",
    "\n",
    "#検索ボックスに文字を入力する\n",
    "browser.find_element_by_id(\"Keyword\").send_keys(search_word)\n",
    "\n",
    "#検索ボタンを押す\n",
    "search_btn = browser.find_element_by_id(\"Search\").click()"
   ]
  },
  {
   "cell_type": "code",
   "execution_count": 307,
   "metadata": {},
   "outputs": [],
   "source": [
    "#求人情報取得。\n",
    "def get_kyujin_data():\n",
    "        \n",
    "    kyujin_price_ls = []\n",
    "    kyujin_name_ls = []\n",
    "    kyujin_url_ls = []\n",
    "    kyujin_data_ls = []\n",
    "\n",
    "    kyujin_ls = browser.find_elements_by_css_selector(\"body > div.l-wrapper > div.l-base.l-base--gray.p-search.p-search-job > main > section > section > div.c-paper.p-search__contents.l-search-section-content.clearfix > div.p-search__right > div.c-media-list.c-media-list--forClient > div\")\n",
    "\n",
    "    for kyujin in kyujin_ls:\n",
    "        kyujin_name = kyujin.find_element_by_css_selector(\"div.c-media__content > div.c-media__content__right > a > span\").text\n",
    "        #print(kyujin_name)\n",
    "        kyujin_name_ls.append(kyujin_name)\n",
    "        kyujin_url = kyujin.find_element_by_css_selector(\"div.c-media__content > div.c-media__content__right > a\").get_attribute(\"href\")\n",
    "        #print(kyujin_url)\n",
    "        kyujin_url_ls.append(kyujin_url)\n",
    "        kyujin_price = kyujin.find_element_by_css_selector(\"div.c-media__content > div.c-media__content__right > div > div > span.c-media__job-price\").text\n",
    "        #print(kyujin_price)\n",
    "        kyujin_price_ls.append(kyujin_price)\n",
    "        kyujin_data_ls.append([kyujin_name,kyujin_url,kyujin_price])\n",
    "\n",
    "    return "
   ]
  },
  {
   "cell_type": "code",
   "execution_count": 316,
   "metadata": {},
   "outputs": [],
   "source": [
    "def create_kyujin_table():\n",
    "        \n",
    "    get_kyujin_data()\n",
    "    df_kyujin_osusume = pd.DataFrame(kyujin_data_ls,columns=[\"募集名\",\"求人URL\",\"単価\"])\n",
    "    \n",
    "\n",
    "    return df_kyujin_osusume.head()\n"
   ]
  },
  {
   "cell_type": "code",
   "execution_count": 317,
   "metadata": {},
   "outputs": [
    {
     "name": "stderr",
     "output_type": "stream",
     "text": [
      "/var/folders/4_/v4tn38ms6wvcj8__s_nx68h00000gn/T/ipykernel_15803/1641395375.py:9: DeprecationWarning: find_elements_by_* commands are deprecated. Please use find_elements() instead\n",
      "  kyujin_ls = browser.find_elements_by_css_selector(\"body > div.l-wrapper > div.l-base.l-base--gray.p-search.p-search-job > main > section > section > div.c-paper.p-search__contents.l-search-section-content.clearfix > div.p-search__right > div.c-media-list.c-media-list--forClient > div\")\n",
      "/Users/yuseitanaka/Downloads/anaconda3/lib/python3.9/site-packages/selenium/webdriver/remote/webelement.py:484: UserWarning: find_element_by_* commands are deprecated. Please use find_element() instead\n",
      "  warnings.warn(\"find_element_by_* commands are deprecated. Please use find_element() instead\")\n"
     ]
    },
    {
     "data": {
      "text/html": [
       "<div>\n",
       "<style scoped>\n",
       "    .dataframe tbody tr th:only-of-type {\n",
       "        vertical-align: middle;\n",
       "    }\n",
       "\n",
       "    .dataframe tbody tr th {\n",
       "        vertical-align: top;\n",
       "    }\n",
       "\n",
       "    .dataframe thead th {\n",
       "        text-align: right;\n",
       "    }\n",
       "</style>\n",
       "<table border=\"1\" class=\"dataframe\">\n",
       "  <thead>\n",
       "    <tr style=\"text-align: right;\">\n",
       "      <th></th>\n",
       "      <th>募集名</th>\n",
       "      <th>求人URL</th>\n",
       "      <th>単価</th>\n",
       "    </tr>\n",
       "  </thead>\n",
       "  <tbody>\n",
       "    <tr>\n",
       "      <th>0</th>\n",
       "      <td>NEW\\n2回目\\nPythonでwebサイトから情報を取得するスクレイピングアプリ(.ex...</td>\n",
       "      <td>https://www.lancers.jp/work/detail/4102318</td>\n",
       "      <td>~ 5,000 円 / 固定</td>\n",
       "    </tr>\n",
       "    <tr>\n",
       "      <th>1</th>\n",
       "      <td>NEW\\nホットペッパービューティからのスクレイピング</td>\n",
       "      <td>https://www.lancers.jp/work/detail/4100730</td>\n",
       "      <td>~ 5,000 円 / 固定</td>\n",
       "    </tr>\n",
       "    <tr>\n",
       "      <th>2</th>\n",
       "      <td>Pythonによるスクレイピング4通り（サイトは2つ）</td>\n",
       "      <td>https://www.lancers.jp/work/detail/4092171</td>\n",
       "      <td>20,000 円 ~ 30,000 円 / 募集期間 5 日、取引期間 0 日</td>\n",
       "    </tr>\n",
       "    <tr>\n",
       "      <th>3</th>\n",
       "      <td>PythonによるWebスクレイピング（継続あり・自走型者優先・複数フリーランス活動中）</td>\n",
       "      <td>https://www.lancers.jp/work/detail/4089488</td>\n",
       "      <td>4,000 円 ~ 5,000 円 / 募集期間 5 日、取引期間 0 日</td>\n",
       "    </tr>\n",
       "    <tr>\n",
       "      <th>4</th>\n",
       "      <td>中古車買取の相場検索・表示機能の開発、デザイン</td>\n",
       "      <td>https://www.lancers.jp/work/detail/4086403</td>\n",
       "      <td>50,000 円 ~ 100,000 円 / 固定</td>\n",
       "    </tr>\n",
       "  </tbody>\n",
       "</table>\n",
       "</div>"
      ],
      "text/plain": [
       "                                                 募集名  \\\n",
       "0  NEW\\n2回目\\nPythonでwebサイトから情報を取得するスクレイピングアプリ(.ex...   \n",
       "1                        NEW\\nホットペッパービューティからのスクレイピング   \n",
       "2                        Pythonによるスクレイピング4通り（サイトは2つ）   \n",
       "3       PythonによるWebスクレイピング（継続あり・自走型者優先・複数フリーランス活動中）   \n",
       "4                            中古車買取の相場検索・表示機能の開発、デザイン   \n",
       "\n",
       "                                        求人URL  \\\n",
       "0  https://www.lancers.jp/work/detail/4102318   \n",
       "1  https://www.lancers.jp/work/detail/4100730   \n",
       "2  https://www.lancers.jp/work/detail/4092171   \n",
       "3  https://www.lancers.jp/work/detail/4089488   \n",
       "4  https://www.lancers.jp/work/detail/4086403   \n",
       "\n",
       "                                        単価  \n",
       "0                           ~ 5,000 円 / 固定  \n",
       "1                           ~ 5,000 円 / 固定  \n",
       "2  20,000 円 ~ 30,000 円 / 募集期間 5 日、取引期間 0 日  \n",
       "3    4,000 円 ~ 5,000 円 / 募集期間 5 日、取引期間 0 日  \n",
       "4                50,000 円 ~ 100,000 円 / 固定  "
      ]
     },
     "execution_count": 317,
     "metadata": {},
     "output_type": "execute_result"
    }
   ],
   "source": [
    "create_kyujin_table()"
   ]
  },
  {
   "cell_type": "code",
   "execution_count": 312,
   "metadata": {},
   "outputs": [
    {
     "name": "stderr",
     "output_type": "stream",
     "text": [
      "/var/folders/4_/v4tn38ms6wvcj8__s_nx68h00000gn/T/ipykernel_15803/4199740031.py:3: DeprecationWarning: find_element_by_* commands are deprecated. Please use find_element() instead\n",
      "  selectbox = Select(browser.find_element_by_css_selector(\"body > div.l-wrapper > div.l-base.l-base--gray.p-search.p-search-job > main > section > section > div.c-paper.p-search__contents.l-search-section-content.clearfix > div.p-search__right > div.p-search__tools > div > div.c-search-bar__sub > div > label > select\"))\n"
     ]
    }
   ],
   "source": [
    "#並び替えをおすすめから最新に変更する\n",
    "from selenium.webdriver.support.select import Select\n",
    "selectbox = Select(browser.find_element_by_css_selector(\"body > div.l-wrapper > div.l-base.l-base--gray.p-search.p-search-job > main > section > section > div.c-paper.p-search__contents.l-search-section-content.clearfix > div.p-search__right > div.p-search__tools > div > div.c-search-bar__sub > div > label > select\"))\n",
    "selectbox.select_by_visible_text(\"新着順\")\n",
    "\n",
    "time.sleep(2)\n",
    "\n",
    "print(selectbox.first_selected_option)\n"
   ]
  },
  {
   "cell_type": "code",
   "execution_count": 313,
   "metadata": {},
   "outputs": [
    {
     "data": {
      "text/html": [
       "<div>\n",
       "<style scoped>\n",
       "    .dataframe tbody tr th:only-of-type {\n",
       "        vertical-align: middle;\n",
       "    }\n",
       "\n",
       "    .dataframe tbody tr th {\n",
       "        vertical-align: top;\n",
       "    }\n",
       "\n",
       "    .dataframe thead th {\n",
       "        text-align: right;\n",
       "    }\n",
       "</style>\n",
       "<table border=\"1\" class=\"dataframe\">\n",
       "  <thead>\n",
       "    <tr style=\"text-align: right;\">\n",
       "      <th></th>\n",
       "      <th>募集名</th>\n",
       "      <th>求人URL</th>\n",
       "      <th>単価</th>\n",
       "    </tr>\n",
       "  </thead>\n",
       "  <tbody>\n",
       "    <tr>\n",
       "      <th>0</th>\n",
       "      <td>NEW\\n2回目\\nPythonでwebサイトから情報を取得するスクレイピングアプリ(.ex...</td>\n",
       "      <td>https://www.lancers.jp/work/detail/4102318</td>\n",
       "      <td>~ 5,000 円 / 固定</td>\n",
       "    </tr>\n",
       "    <tr>\n",
       "      <th>1</th>\n",
       "      <td>NEW\\nホットペッパービューティからのスクレイピング</td>\n",
       "      <td>https://www.lancers.jp/work/detail/4100730</td>\n",
       "      <td>~ 5,000 円 / 固定</td>\n",
       "    </tr>\n",
       "    <tr>\n",
       "      <th>2</th>\n",
       "      <td>Pythonによるスクレイピング4通り（サイトは2つ）</td>\n",
       "      <td>https://www.lancers.jp/work/detail/4092171</td>\n",
       "      <td>20,000 円 ~ 30,000 円 / 募集期間 5 日、取引期間 0 日</td>\n",
       "    </tr>\n",
       "    <tr>\n",
       "      <th>3</th>\n",
       "      <td>PythonによるWebスクレイピング（継続あり・自走型者優先・複数フリーランス活動中）</td>\n",
       "      <td>https://www.lancers.jp/work/detail/4089488</td>\n",
       "      <td>4,000 円 ~ 5,000 円 / 募集期間 5 日、取引期間 0 日</td>\n",
       "    </tr>\n",
       "    <tr>\n",
       "      <th>4</th>\n",
       "      <td>中古車買取の相場検索・表示機能の開発、デザイン</td>\n",
       "      <td>https://www.lancers.jp/work/detail/4086403</td>\n",
       "      <td>50,000 円 ~ 100,000 円 / 固定</td>\n",
       "    </tr>\n",
       "  </tbody>\n",
       "</table>\n",
       "</div>"
      ],
      "text/plain": [
       "                                                 募集名  \\\n",
       "0  NEW\\n2回目\\nPythonでwebサイトから情報を取得するスクレイピングアプリ(.ex...   \n",
       "1                        NEW\\nホットペッパービューティからのスクレイピング   \n",
       "2                        Pythonによるスクレイピング4通り（サイトは2つ）   \n",
       "3       PythonによるWebスクレイピング（継続あり・自走型者優先・複数フリーランス活動中）   \n",
       "4                            中古車買取の相場検索・表示機能の開発、デザイン   \n",
       "\n",
       "                                        求人URL  \\\n",
       "0  https://www.lancers.jp/work/detail/4102318   \n",
       "1  https://www.lancers.jp/work/detail/4100730   \n",
       "2  https://www.lancers.jp/work/detail/4092171   \n",
       "3  https://www.lancers.jp/work/detail/4089488   \n",
       "4  https://www.lancers.jp/work/detail/4086403   \n",
       "\n",
       "                                        単価  \n",
       "0                           ~ 5,000 円 / 固定  \n",
       "1                           ~ 5,000 円 / 固定  \n",
       "2  20,000 円 ~ 30,000 円 / 募集期間 5 日、取引期間 0 日  \n",
       "3    4,000 円 ~ 5,000 円 / 募集期間 5 日、取引期間 0 日  \n",
       "4                50,000 円 ~ 100,000 円 / 固定  "
      ]
     },
     "execution_count": 313,
     "metadata": {},
     "output_type": "execute_result"
    }
   ],
   "source": [
    "df_kyujin_new = pd.DataFrame(kyujin_data_ls,columns=[\"募集名\",\"求人URL\",\"単価\"])\n",
    "df_kyujin_new.head()"
   ]
  },
  {
   "cell_type": "code",
   "execution_count": 310,
   "metadata": {},
   "outputs": [
    {
     "name": "stderr",
     "output_type": "stream",
     "text": [
      "/var/folders/4_/v4tn38ms6wvcj8__s_nx68h00000gn/T/ipykernel_15803/1641395375.py:9: DeprecationWarning: find_elements_by_* commands are deprecated. Please use find_elements() instead\n",
      "  kyujin_ls = browser.find_elements_by_css_selector(\"body > div.l-wrapper > div.l-base.l-base--gray.p-search.p-search-job > main > section > section > div.c-paper.p-search__contents.l-search-section-content.clearfix > div.p-search__right > div.c-media-list.c-media-list--forClient > div\")\n",
      "/Users/yuseitanaka/Downloads/anaconda3/lib/python3.9/site-packages/selenium/webdriver/remote/webelement.py:484: UserWarning: find_element_by_* commands are deprecated. Please use find_element() instead\n",
      "  warnings.warn(\"find_element_by_* commands are deprecated. Please use find_element() instead\")\n"
     ]
    }
   ],
   "source": [
    "get_kyujin_data()"
   ]
  },
  {
   "cell_type": "code",
   "execution_count": null,
   "metadata": {},
   "outputs": [],
   "source": []
  }
 ],
 "metadata": {
  "interpreter": {
   "hash": "6152385d9bc1251cf5574146bd775f8bb22406d02a3c562d8a1d942946687db9"
  },
  "kernelspec": {
   "display_name": "Python 3.9.7 ('base')",
   "language": "python",
   "name": "python3"
  },
  "language_info": {
   "codemirror_mode": {
    "name": "ipython",
    "version": 3
   },
   "file_extension": ".py",
   "mimetype": "text/x-python",
   "name": "python",
   "nbconvert_exporter": "python",
   "pygments_lexer": "ipython3",
   "version": "3.9.7"
  },
  "orig_nbformat": 4
 },
 "nbformat": 4,
 "nbformat_minor": 2
}
